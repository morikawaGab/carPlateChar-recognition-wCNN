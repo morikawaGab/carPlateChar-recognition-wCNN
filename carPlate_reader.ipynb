{
 "cells": [
  {
   "cell_type": "code",
   "execution_count": 235,
   "metadata": {},
   "outputs": [],
   "source": [
    "import pytesseract as pt\n",
    "from PIL import Image\n",
    "import numpy as np\n",
    "import cv2\n",
    "import re\n",
    "import os\n",
    "import sys"
   ]
  },
  {
   "cell_type": "markdown",
   "metadata": {},
   "source": [
    "# CONFIGURAR CAMINHO PARA O TESSERACT"
   ]
  },
  {
   "cell_type": "code",
   "execution_count": 70,
   "metadata": {},
   "outputs": [],
   "source": [
    "pt.pytesseract.tesseract_cmd = \"C:/Users/c18361b/AppData/Local/Programs/Tesseract-OCR/tesseract.exe\""
   ]
  },
  {
   "cell_type": "markdown",
   "metadata": {},
   "source": [
    "# VARIÁVEIS GLOBAIS"
   ]
  },
  {
   "cell_type": "code",
   "execution_count": 288,
   "metadata": {},
   "outputs": [],
   "source": [
    "FILEPATH = f'./carPlates/'\n",
    "#FILEPATH = f'C:/Users/c18361b/Downloads/'\n",
    "\n",
    "IMAGE = 'plate_3.bmp'\n",
    "\n",
    "IMAGES = ['plate_1.bmp', 'plate_2.bmp', 'plate_3.bmp', 'plate_4.bmp', 'plate_5.bmp']"
   ]
  },
  {
   "cell_type": "markdown",
   "metadata": {},
   "source": [
    "# DETECTAR CARACTERES DA PLACA COM TESSERACT"
   ]
  },
  {
   "cell_type": "code",
   "execution_count": 281,
   "metadata": {},
   "outputs": [],
   "source": [
    "def chrDetector(image):\n",
    "    \n",
    "    # usa o pytesseract para detectar os caracteres e obter informações sobre eles\n",
    "    text = pt.pytesseract.image_to_string(image)\n",
    "    chr_data = pt.pytesseract.image_to_boxes(image)\n",
    "\n",
    "    # define o padrão a ser procurado (3 números seguidos por 4 letras)\n",
    "    sequence = (r\"\\b(?=.*[A-Z])(?=.*\\d)[A-Z\\d]{3}.*\\d{4}\\b|\"\n",
    "                r\"\\b(?=.*[A-Z])(?=.*\\d)[A-Z]{3}.*[A-Z\\d]{4}\\b|\"\n",
    "                r\"\\b(?=.*[A-Z])(?=.*\\d)[A-Z]{3}.*\\d{4}\\b|\"\n",
    "                r\"\\b(?=.*[A-Z])(?=.*\\d)[A-Z\\d]{3}.*[A-Z\\d]{3}\\b\")\n",
    "\n",
    "    # encontra todos os padrões no texto e junta em uma lista\n",
    "    results = re.findall(sequence, text)\n",
    "\n",
    "    # separa cada caracter de results e coloca em uma nova lista\n",
    "    plate_chr = []\n",
    "    for chr in results:\n",
    "        plate_chr.extend(list(chr))\n",
    "    \n",
    "    # relaciona os itens de plate_chr com os detectados pelo tesseract para extrair as informações\n",
    "    # apenas dos caracteres desejados\n",
    "    chr_coord = []\n",
    "    for info in chr_data.splitlines():\n",
    "        char, x, y, w, h = info.split()[0], int(info.split()[1]), int(info.split()[2]), int(info.split()[3]), int(info.split()[4])\n",
    "        if char.isalnum() and char in plate_chr:  # Verificar se o caractere é alfanumérico\n",
    "            chr_coord.append({'char': char, 'x': x, 'y': y, 'width': w, 'height': h})\n",
    "\n",
    "    # mantém na lista apenas os caracteres necessários e exclui os extras indesejados\n",
    "    del chr_coord[:-7]\n",
    "\n",
    "    # exibe as coordenadas dos caracteres correspondentes aos padrões encontrados\n",
    "    \"\"\"for data in chr_coord:\n",
    "        print(f\"Caractere: {data['char']}, Coordenadas: x={data['x']}, y={data['y']}, largura={data['width']}, altura={data['height']}\")\n",
    "\"\"\"\n",
    "    return chr_coord"
   ]
  },
  {
   "cell_type": "markdown",
   "metadata": {},
   "source": [
    "# CORTANDO OS CARACTERES DA IMAGEM"
   ]
  },
  {
   "cell_type": "code",
   "execution_count": 280,
   "metadata": {},
   "outputs": [],
   "source": [
    "def cropCharacters(image, chr_coord, which_plate):\n",
    "\n",
    "    height, width = image.shape\n",
    "    \n",
    "    for index, item in enumerate(chr_coord):\n",
    "\n",
    "        offset = 10\n",
    "\n",
    "        x_top_left = int(item['x']) - offset\n",
    "        y_top_left = int(height - int(item['height'])) - offset\n",
    "        x_bottom_right = int(item['width']) + offset\n",
    "        y_bottom_right = int(height - int(item['y'])) + offset\n",
    "\n",
    "        while (x_top_left < 0 or y_top_left < 0 or x_bottom_right > width or y_bottom_right > height) and offset > 0:\n",
    "            offset -= 1\n",
    "            if x_top_left < 0: x_top_left = int(item['x']) - offset\n",
    "            if y_top_left < 0: y_top_left = int(height - int(item['height'])) - offset\n",
    "            if x_bottom_right > width: x_bottom_right = int(item['width']) + offset\n",
    "            if y_bottom_right > height: y_bottom_right = int(height - int(item['y'])) + offset\n",
    "\n",
    "        cropped_img = image[y_top_left:y_bottom_right, x_top_left:x_bottom_right]\n",
    "\n",
    "        directory = './carPlates/cropped_plate_%d'% which_plate\n",
    "        if not os.path.exists(directory): os.makedirs(directory)\n",
    "\n",
    "        cropped_img = Image.fromarray(cropped_img)\n",
    "        cropped_img.save(os.path.join(directory, 'chr_%d.png'% index))"
   ]
  },
  {
   "cell_type": "markdown",
   "metadata": {},
   "source": [
    "# MAIN"
   ]
  },
  {
   "cell_type": "code",
   "execution_count": 291,
   "metadata": {},
   "outputs": [
    {
     "name": "stdout",
     "output_type": "stream",
     "text": [
      "Done 0\n",
      "Done 1\n",
      "Done 2\n",
      "Done 3\n",
      "Done 4\n"
     ]
    }
   ],
   "source": [
    "def main():\n",
    "\n",
    "    for index, img in enumerate(IMAGES):\n",
    "        \n",
    "        img_path = FILEPATH + img\n",
    "        #img_path = f'./carPlates/' + IMAGE\n",
    "        image = cv2.imread(img_path, cv2.IMREAD_GRAYSCALE)\n",
    "\n",
    "        chr_coord = chrDetector(image)\n",
    "        cropCharacters(image, chr_coord, which_plate=index+1)\n",
    "\n",
    "        #print(\"Done %d\"% index)\n",
    "           \n",
    "if __name__ == '__main__':\n",
    "    main()"
   ]
  }
 ],
 "metadata": {
  "kernelspec": {
   "display_name": "myenv",
   "language": "python",
   "name": "python3"
  },
  "language_info": {
   "codemirror_mode": {
    "name": "ipython",
    "version": 3
   },
   "file_extension": ".py",
   "mimetype": "text/x-python",
   "name": "python",
   "nbconvert_exporter": "python",
   "pygments_lexer": "ipython3",
   "version": "3.11.7"
  }
 },
 "nbformat": 4,
 "nbformat_minor": 2
}
