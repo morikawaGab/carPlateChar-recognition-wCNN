{
 "cells": [
  {
   "cell_type": "code",
   "execution_count": null,
   "metadata": {},
   "outputs": [],
   "source": [
    "import os\n",
    "import sys\n",
    "import numpy as np\n",
    "from matplotlib import pyplot as plt\n",
    "from tensorflow import keras\n",
    "from keras import Model, preprocessing\n",
    "from keras.optimizers import Adam\n",
    "from keras.callbacks import ModelCheckpoint\n",
    "from tensorflow.keras.utils import image_dataset_from_directory\n",
    "from tensorflow.keras.layers import Input, Rescaling, Conv2D, MaxPooling2D, Flatten, Dense, Dropout"
   ]
  },
  {
   "cell_type": "markdown",
   "metadata": {},
   "source": [
    "# VARIÁVEIS GLOBAIS"
   ]
  },
  {
   "cell_type": "code",
   "execution_count": null,
   "metadata": {},
   "outputs": [],
   "source": [
    "WIDTH = HEIGHT = 240\n",
    "\n",
    "TRAIN_MODEL = True\n",
    "\n",
    "LEARNING_RATE = 0.001\n",
    "BATCH_SIZE = 4\n",
    "EPOCHS = 32"
   ]
  },
  {
   "cell_type": "markdown",
   "metadata": {},
   "source": [
    "# CARREGANDO IMAGENS PARA O TENSORFLOW"
   ]
  },
  {
   "cell_type": "code",
   "execution_count": null,
   "metadata": {},
   "outputs": [],
   "source": [
    "current_directory = os.path.abspath(os.getcwd())\n",
    "letters_directory = current_directory + '/organizedCharacters/letters'\n",
    "\n",
    "training_directory = letters_directory + '/training'\n",
    "test_directory = letters_directory + '/test'\n",
    "validation_directory = letters_directory + '/validation'\n",
    "\n",
    "training_dataset = preprocessing.image_dataset_from_directory(training_directory, label_mode='categorical', image_size=(WIDTH, HEIGHT), batch_size=BATCH_SIZE)\n",
    "validation_dataset = preprocessing.image_dataset_from_directory(validation_directory, label_mode='categorical', image_size=(WIDTH, HEIGHT), batch_size=BATCH_SIZE)\n",
    "test_dataset = preprocessing.image_dataset_from_directory(test_directory, label_mode='categorical', image_size=(WIDTH, HEIGHT), batch_size=BATCH_SIZE)"
   ]
  },
  {
   "cell_type": "markdown",
   "metadata": {},
   "source": [
    "# CONSTRUINDO ARQUITETURA DA REDE"
   ]
  },
  {
   "cell_type": "code",
   "execution_count": null,
   "metadata": {},
   "outputs": [],
   "source": [
    "def buildNeuralNetwork():\n",
    "\n",
    "    # camada de entrada\n",
    "    model_input = Input((HEIGHT, WIDTH, 3))\n",
    "    model_input = Rescaling(scale=1.0/255)(model_input)\n",
    "\n",
    "    # 1a camada\n",
    "    model = Conv2D(4, kernel_size=3, padding='same', activation='relu')(model_input)\n",
    "    model = MaxPooling2D (padding='same')(model)\n",
    "\n",
    "    # 2a camada\n",
    "    model = Conv2D(8, kernel_size=3, padding='same', activation='relu')(model_input)\n",
    "    model = MaxPooling2D (padding='same')(model)\n",
    "\n",
    "    # 3a camada\n",
    "    model = Conv2D(16, kernel_size=3, padding='same', activation='relu')(model_input)\n",
    "    model = MaxPooling2D (padding='same')(model)\n",
    "\n",
    "    # camadas conectadas\n",
    "    model = Flatten()(model)\n",
    "    model = Dense(24, activation='relu')(model)\n",
    "    model = Dropout(0.2)(model)\n",
    "    model = Dense(26, activation='softmax')(model)\n",
    "\n",
    "    return Model(model_input, model)"
   ]
  },
  {
   "cell_type": "markdown",
   "metadata": {},
   "source": [
    "# TREINANDO A REDE NEURAL"
   ]
  },
  {
   "cell_type": "code",
   "execution_count": null,
   "metadata": {},
   "outputs": [],
   "source": [
    "def trainModel(model):\n",
    "\n",
    "   checkpoint = ModelCheckpoint('saved_2.h5', save_best_only=True, monitor='val_accuracy', mode='max', save_freq='epoch')\n",
    "   history = model.fit (training_dataset, epochs = EPOCHS, batch_size=BATCH_SIZE, validation_data=validation_dataset, callbacks=[checkpoint])\n",
    "   \n",
    "   plt.plot (history.history ['loss'])\n",
    "   plt.plot (history.history['val_loss'])\n",
    "   plt.ylabel ('loss')\n",
    "   plt.xlabel ('epoch')\n",
    "   plt.legend (['train', 'validation'], loc='upper left')\n",
    "   plt.savefig ('training.png')\n",
    "\n",
    "   plt.clf ()\n",
    "   plt.plot (history.history ['accuracy'])\n",
    "   plt.plot (history.history ['val_accuracy'])\n",
    "   plt.ylabel ('accuracy')\n",
    "   plt.xlabel ('epoch')\n",
    "   plt.legend (['train', 'validation'], loc='upper left')\n",
    "   plt.savefig ('training_acc.png')"
   ]
  },
  {
   "cell_type": "markdown",
   "metadata": {},
   "source": [
    "# MAIN"
   ]
  },
  {
   "cell_type": "code",
   "execution_count": null,
   "metadata": {},
   "outputs": [],
   "source": [
    "def main():\n",
    "    \n",
    "    model = buildNeuralNetwork()\n",
    "    model.summary()\n",
    "    model.compile(optimizer = Adam(learning_rate=LEARNING_RATE), loss='categorical_crossentropy', metrics=['accuracy'])\n",
    "\n",
    "    if TRAIN_MODEL:\n",
    "        trainModel(model)\n",
    "    else:\n",
    "        model.load_weights(\"saved_2(33800 samples).h5\")\n",
    "        _, test_acc = model.evaluate(test_dataset)\n",
    "        print(f\"Test accuracy: {test_acc:.3f}\")\n",
    "\n",
    "\n",
    "if __name__ == '__main__':\n",
    "    main()"
   ]
  }
 ],
 "metadata": {
  "kernelspec": {
   "display_name": "myenv",
   "language": "python",
   "name": "python3"
  },
  "language_info": {
   "codemirror_mode": {
    "name": "ipython",
    "version": 3
   },
   "file_extension": ".py",
   "mimetype": "text/x-python",
   "name": "python",
   "nbconvert_exporter": "python",
   "pygments_lexer": "ipython3",
   "version": "3.11.7"
  }
 },
 "nbformat": 4,
 "nbformat_minor": 2
}
