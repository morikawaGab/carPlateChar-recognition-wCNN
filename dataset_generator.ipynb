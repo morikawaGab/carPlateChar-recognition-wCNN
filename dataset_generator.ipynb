{
 "cells": [
  {
   "cell_type": "code",
   "execution_count": 36,
   "metadata": {},
   "outputs": [],
   "source": [
    "from PIL import Image, ImageDraw, ImageFont\n",
    "import numpy as np\n",
    "import cv2\n",
    "import random\n",
    "import os\n",
    "import sys"
   ]
  },
  {
   "cell_type": "markdown",
   "metadata": {},
   "source": [
    "# O 'ESTRAGADOR' DE IMAGENS 1001"
   ]
  },
  {
   "cell_type": "code",
   "execution_count": 37,
   "metadata": {},
   "outputs": [],
   "source": [
    "def addReflection(img):\n",
    "\n",
    "    # cria uma máscara com os reflexos em formato de círculo\n",
    "    mask_reflections = np.zeros_like(img, dtype=np.uint8)\n",
    "\n",
    "    for n in range(3):\n",
    "        x = random.randint(0, 240)\n",
    "        y = random.randint(0, 240)\n",
    "\n",
    "        radius = random.randint(20, 150)\n",
    "\n",
    "        cv2.circle(mask_reflections, (x, y), radius, (255, 255, 255), -1)\n",
    "\n",
    "    # ajusta a intensidade dos pixels na área dos reflexos\n",
    "    brightness_factor = 0.1 \n",
    "\n",
    "    # multiplica a área dos reflexos pelo fator de brilho\n",
    "    reflections = cv2.multiply(mask_reflections, brightness_factor)\n",
    "\n",
    "    # sobrepõe os reflexos na imagem original\n",
    "    reflection_img = cv2.add(img, reflections)\n",
    "\n",
    "    return reflection_img"
   ]
  },
  {
   "cell_type": "code",
   "execution_count": 38,
   "metadata": {},
   "outputs": [],
   "source": [
    "def adjustImage(img):\n",
    "\n",
    "    epsilon = 1e-10 # numero bem pequeno para incluir o limite final no intervalo\n",
    "    alpha = round(random.uniform(0.1, (1.5 + epsilon)), 2) # 1 mantém\n",
    "    beta = random.randint(-5, 5) # 0 mantém\n",
    "\n",
    "    # alpha ajusta o contraste e beta ajusta o brilho\n",
    "    adjusted_image = cv2.convertScaleAbs(img, alpha=alpha, beta=beta)\n",
    "\n",
    "    cooked_img = addReflection(adjusted_image)\n",
    "\n",
    "    return cooked_img"
   ]
  },
  {
   "cell_type": "code",
   "execution_count": 39,
   "metadata": {},
   "outputs": [],
   "source": [
    "def noiseMaker(img):\n",
    "\n",
    "    epsilon = 1e-10 # numero bem pequeno para incluir o limite final no intervalo\n",
    "    std_dev = round(random.uniform(0.1, (0.6 + epsilon)), 2)\n",
    "    mean = 0\n",
    "    \n",
    "    # ruído gaussiano\n",
    "    noise = np.random.normal(mean, std_dev, img.shape).astype(np.uint8)\n",
    "    noisy_img = cv2.add(img, noise)\n",
    "\n",
    "    # transforma ruídos da imagem em escala de cinza\n",
    "    #noisy_img = cv2.cvtColor(noisy_img, cv2.COLOR_BGR2GRAY)\n",
    "\n",
    "    cooked_img = adjustImage(noisy_img)\n",
    "\n",
    "    return cooked_img"
   ]
  },
  {
   "cell_type": "code",
   "execution_count": 40,
   "metadata": {},
   "outputs": [],
   "source": [
    "def addDepth(img):\n",
    "    \n",
    "    kernel = cv2.getStructuringElement(cv2.MORPH_RECT, (7,7))\n",
    "\n",
    "    edges = cv2.Canny(img, 100, 200)\n",
    "    dilated_edges = cv2.dilate(edges, kernel, iterations=1)\n",
    "\n",
    "    dilated_edges = dilated_edges.astype(np.float32) / 255\n",
    "\n",
    "    # dilata o caracter\n",
    "    dilated_edges[img > 0] = 0.25\n",
    "\n",
    "    # altera as cores para o padrão de placa de carro\n",
    "    depth_img = np.copy(dilated_edges)\n",
    "    depth_img[dilated_edges == 0] = 0.65\n",
    "    depth_img[dilated_edges == 1] = 0.25\n",
    "    depth_img[dilated_edges == 0.25] = 0\n",
    "\n",
    "    # borra a imagem para diminuir serrilhados\n",
    "    depth_img = cv2.GaussianBlur(depth_img, (0,0), 0.93)\n",
    "\n",
    "    depth_img = cv2.normalize(depth_img, None, 0, 255, cv2.NORM_MINMAX)\n",
    "    depth_img = depth_img.astype(np.uint8)\n",
    "\n",
    "    final_img = noiseMaker(depth_img)\n",
    "\n",
    "    return final_img"
   ]
  },
  {
   "cell_type": "markdown",
   "metadata": {},
   "source": [
    "# GERADOR DE CARACTERES"
   ]
  },
  {
   "cell_type": "code",
   "execution_count": 55,
   "metadata": {},
   "outputs": [],
   "source": [
    "def singleDigitGenerator(character, counter, directory, chr_type):\n",
    "\n",
    "    width = height = 240\n",
    "\n",
    "    font = ImageFont.truetype(\"MANDATOR.ttf\", size=180)\n",
    "\n",
    "    img = Image.new('RGB', (width, height), color='black')\n",
    "    imgDraw = ImageDraw.Draw(img)\n",
    "\n",
    "    xText = width - random.randint(110, 370)\n",
    "    yText = height - random.randint(110, 280)\n",
    "\n",
    "    _, _, textWidth, textHeight = imgDraw.textbbox((xText,yText), character, font=font)\n",
    "    xText = (width - textWidth) / 2\n",
    "    yText = (height - textHeight) / 2\n",
    "\n",
    "    imgDraw.text((xText, yText), character, font=font, fill='white')\n",
    "\n",
    "    img.save(os.path.join(directory, 'chr%s_%d.png'% (character, counter)))\n",
    "\n",
    "    img_path = f'./generatedCharacters/' + chr_type + f'/character_{character}/chr{character}_{counter}.png'\n",
    "    img = cv2.imread(img_path, cv2.IMREAD_GRAYSCALE)\n",
    "\n",
    "    generated_img = addDepth(img)\n",
    "\n",
    "    generated_img = Image.fromarray(generated_img)\n",
    "    generated_img.save(os.path.join(directory, 'chr%s_%d.png'% (character, counter)))"
   ]
  },
  {
   "cell_type": "markdown",
   "metadata": {},
   "source": [
    "# NÚMEROS"
   ]
  },
  {
   "cell_type": "code",
   "execution_count": 60,
   "metadata": {},
   "outputs": [],
   "source": [
    "numbers = ['0', '1', '2', '3', '4', '5', '6', '7', '8', '9']\n",
    "\n",
    "for num in numbers:\n",
    "\n",
    "    directory = './generatedCharacters/numbers/character_%s'% num\n",
    "    if not os.path.exists(directory): os.makedirs(directory)\n",
    "\n",
    "    counter = 0\n",
    "    \n",
    "    for num_images in range(1300):\n",
    "        singleDigitGenerator(num, counter, directory, chr_type='numbers')\n",
    "        counter += 1"
   ]
  },
  {
   "cell_type": "markdown",
   "metadata": {},
   "source": [
    "# LETRAS DO ALFABETO"
   ]
  },
  {
   "cell_type": "code",
   "execution_count": 61,
   "metadata": {},
   "outputs": [],
   "source": [
    "alphabet = ['A', 'B', 'C', 'D', 'E', 'F', 'G', 'H', 'I',\n",
    "            'J', 'K', 'L', 'M', 'N', 'O', 'P', 'Q', 'R',\n",
    "            'S', 'T', 'U', 'V', 'W', 'X', 'Y', 'Z']\n",
    "\n",
    "for letter in alphabet:\n",
    "\n",
    "    directory = './generatedCharacters/letters/character_%s'% letter\n",
    "    if not os.path.exists(directory): os.makedirs(directory)\n",
    "\n",
    "    counter = 0\n",
    "    \n",
    "    for num_images in range(1300):\n",
    "        singleDigitGenerator(letter, counter, directory, chr_type='letters')\n",
    "        counter += 1"
   ]
  }
 ],
 "metadata": {
  "kernelspec": {
   "display_name": "Python 3",
   "language": "python",
   "name": "python3"
  },
  "language_info": {
   "codemirror_mode": {
    "name": "ipython",
    "version": 3
   },
   "file_extension": ".py",
   "mimetype": "text/x-python",
   "name": "python",
   "nbconvert_exporter": "python",
   "pygments_lexer": "ipython3",
   "version": "3.11.7"
  }
 },
 "nbformat": 4,
 "nbformat_minor": 2
}
