{
 "cells": [
  {
   "cell_type": "code",
   "execution_count": 1,
   "metadata": {},
   "outputs": [],
   "source": [
    "import shutil\n",
    "import glob\n",
    "import random\n",
    "import os\n",
    "import sys "
   ]
  },
  {
   "cell_type": "markdown",
   "metadata": {},
   "source": [
    "# CRIANDO PASTAS DE ORGANIZAÇÃO PRINCIPAIS"
   ]
  },
  {
   "cell_type": "code",
   "execution_count": 2,
   "metadata": {},
   "outputs": [],
   "source": [
    "org_directory = './organizedCharacters'\n",
    "numbers_directory = org_directory + '/numbers'\n",
    "letters_directory = org_directory + '/letters'\n",
    "\n",
    "if not os.path.exists(org_directory): os.makedirs(org_directory)\n",
    "if not os.path.exists(numbers_directory): os.makedirs(numbers_directory)\n",
    "if not os.path.exists(letters_directory): os.makedirs(letters_directory)"
   ]
  },
  {
   "cell_type": "markdown",
   "metadata": {},
   "source": [
    "# PASTAS DOS NÚMEROS"
   ]
  },
  {
   "cell_type": "code",
   "execution_count": 3,
   "metadata": {},
   "outputs": [],
   "source": [
    "training_numbers_directory = numbers_directory + '/training'\n",
    "test_numbers_directory = numbers_directory + '/test'\n",
    "validation_numbers_directory = numbers_directory + '/validation'\n",
    "\n",
    "if not os.path.exists(training_numbers_directory): os.makedirs(training_numbers_directory)\n",
    "if not os.path.exists(test_numbers_directory): os.makedirs(test_numbers_directory)\n",
    "if not os.path.exists(validation_numbers_directory): os.makedirs(validation_numbers_directory)"
   ]
  },
  {
   "cell_type": "code",
   "execution_count": 4,
   "metadata": {},
   "outputs": [],
   "source": [
    "numbers = ['0', '1', '2', '3', '4', '5', '6', '7', '8', '9']\n",
    "\n",
    "for num in numbers:\n",
    "    training_num_dir = training_numbers_directory + '/training_chr%s'% num\n",
    "    test_num_dir = test_numbers_directory + '/test_chr%s'% num\n",
    "    validation_num_dir = validation_numbers_directory + '/validation_chr%s'% num\n",
    "\n",
    "    if not os.path.exists(training_num_dir): os.makedirs(training_num_dir)\n",
    "    if not os.path.exists(test_num_dir): os.makedirs(test_num_dir)\n",
    "    if not os.path.exists(validation_num_dir): os.makedirs(validation_num_dir)\n",
    "    "
   ]
  },
  {
   "cell_type": "markdown",
   "metadata": {},
   "source": [
    "# PASTAS DAS LETRAS"
   ]
  },
  {
   "cell_type": "code",
   "execution_count": 5,
   "metadata": {},
   "outputs": [],
   "source": [
    "training_letters_directory = letters_directory + '/training'\n",
    "test_letters_directory = letters_directory + '/test'\n",
    "validation_letters_directory = letters_directory + '/validation'\n",
    "\n",
    "if not os.path.exists(training_letters_directory): os.makedirs(training_letters_directory)\n",
    "if not os.path.exists(test_letters_directory): os.makedirs(test_letters_directory)\n",
    "if not os.path.exists(validation_letters_directory): os.makedirs(validation_letters_directory)"
   ]
  },
  {
   "cell_type": "code",
   "execution_count": 6,
   "metadata": {},
   "outputs": [],
   "source": [
    "alphabet = ['A', 'B', 'C', 'D', 'E', 'F', 'G', 'H', 'I',\n",
    "            'J', 'K', 'L', 'M', 'N', 'O', 'P', 'Q', 'R',\n",
    "            'S', 'T', 'U', 'V', 'W', 'X', 'Y', 'Z']\n",
    "\n",
    "for letter in alphabet:\n",
    "    training_let_dir = training_letters_directory + '/training_chr%s'% letter\n",
    "    test_let_dir = test_letters_directory + '/test_chr%s'% letter\n",
    "    validation_let_dir = validation_letters_directory + '/validation_chr%s'% letter\n",
    "\n",
    "    if not os.path.exists(training_let_dir): os.makedirs(training_let_dir)\n",
    "    if not os.path.exists(test_let_dir): os.makedirs(test_let_dir)\n",
    "    if not os.path.exists(validation_let_dir): os.makedirs(validation_let_dir)"
   ]
  },
  {
   "cell_type": "markdown",
   "metadata": {},
   "source": [
    "# MOVENDO IMAGENS GERADAS PARA PASTAS"
   ]
  },
  {
   "cell_type": "code",
   "execution_count": 15,
   "metadata": {},
   "outputs": [],
   "source": [
    "def moveImagesRandomly(current_directory, file, chr_type, chr):\n",
    "\n",
    "    percent_val = 0.10\n",
    "    percent_test = 0.20\n",
    "    percent = random.random()\n",
    "\n",
    "    filename = file.split(\"\\\\\")[-1]\n",
    "\n",
    "    if percent <= percent_val:\n",
    "        destiny_dir = current_directory + '\\\\organizedCharacters\\\\' + chr_type + '\\\\validation\\\\validation_chr%s'% chr\n",
    "        shutil.move(file, destiny_dir + \"\\\\\" + filename)\n",
    "\n",
    "    elif (percent > percent_val) and (percent <= percent_val + percent_test):\n",
    "        destiny_dir = current_directory + '\\\\organizedCharacters\\\\' + chr_type + '\\\\test\\\\test_chr%s'% chr\n",
    "        shutil.move(file, destiny_dir + \"\\\\\" + filename)\n",
    "\n",
    "    else:\n",
    "        destiny_dir = current_directory + '\\\\organizedCharacters\\\\' + chr_type + '\\\\training\\\\training_chr%s'% chr\n",
    "        shutil.move(file, destiny_dir + \"\\\\\" + filename)\n",
    "        "
   ]
  },
  {
   "cell_type": "markdown",
   "metadata": {},
   "source": [
    "# NÚMEROS"
   ]
  },
  {
   "cell_type": "code",
   "execution_count": 17,
   "metadata": {},
   "outputs": [],
   "source": [
    "current_directory = os.path.abspath(os.getcwd())\n",
    "\n",
    "numbers = ['0', '1', '2', '3', '4', '5', '6', '7', '8', '9']\n",
    "\n",
    "for num in numbers:\n",
    "    file_path = current_directory + '\\\\generatedCharacters\\\\numbers\\\\character_%s'% num\n",
    "    prefix = '\\\\chr%s_'% num\n",
    "\n",
    "    number_training_files = glob.glob(file_path + prefix + '*')\n",
    "\n",
    "    for file in number_training_files:\n",
    "        moveImagesRandomly(current_directory, file, chr_type='numbers', chr=num)"
   ]
  },
  {
   "cell_type": "markdown",
   "metadata": {},
   "source": [
    "# LETRAS DO ALFABETO"
   ]
  },
  {
   "cell_type": "code",
   "execution_count": 18,
   "metadata": {},
   "outputs": [],
   "source": [
    "current_directory = os.path.abspath(os.getcwd())\n",
    "\n",
    "alphabet = ['A', 'B', 'C', 'D', 'E', 'F', 'G', 'H', 'I',\n",
    "            'J', 'K', 'L', 'M', 'N', 'O', 'P', 'Q', 'R',\n",
    "            'S', 'T', 'U', 'V', 'W', 'X', 'Y', 'Z']\n",
    "\n",
    "for letter in alphabet:\n",
    "    file_path = current_directory + '\\\\generatedCharacters\\\\letters\\\\character_%s'% letter\n",
    "    prefix = '\\\\chr%s_'% letter\n",
    "\n",
    "    letter_training_files = glob.glob(file_path + prefix + '*')\n",
    "\n",
    "    for file in letter_training_files:\n",
    "        moveImagesRandomly(current_directory, file, chr_type='letters', chr=letter)"
   ]
  }
 ],
 "metadata": {
  "kernelspec": {
   "display_name": "Python 3",
   "language": "python",
   "name": "python3"
  },
  "language_info": {
   "codemirror_mode": {
    "name": "ipython",
    "version": 3
   },
   "file_extension": ".py",
   "mimetype": "text/x-python",
   "name": "python",
   "nbconvert_exporter": "python",
   "pygments_lexer": "ipython3",
   "version": "3.11.7"
  }
 },
 "nbformat": 4,
 "nbformat_minor": 2
}
