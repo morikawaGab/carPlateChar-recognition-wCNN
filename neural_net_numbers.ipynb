{
 "cells": [
  {
   "cell_type": "code",
   "execution_count": 3,
   "metadata": {},
   "outputs": [],
   "source": [
    "import os\n",
    "import sys\n",
    "import numpy as np\n",
    "from matplotlib import pyplot as plt\n",
    "from tensorflow import keras\n",
    "from keras import Model, preprocessing\n",
    "from keras.optimizers import Adam\n",
    "from keras.callbacks import ModelCheckpoint\n",
    "from tensorflow.keras.utils import image_dataset_from_directory\n",
    "from tensorflow.keras.layers import Input, Rescaling, Conv2D, MaxPooling2D, Flatten, Dense, Dropout"
   ]
  },
  {
   "cell_type": "markdown",
   "metadata": {},
   "source": [
    "# VARIÁVEIS GLOBAIS"
   ]
  },
  {
   "cell_type": "code",
   "execution_count": 6,
   "metadata": {},
   "outputs": [],
   "source": [
    "WIDTH = HEIGHT = 240\n",
    "\n",
    "TRAIN_MODEL = True\n",
    "\n",
    "LEARNING_RATE = 0.001\n",
    "BATCH_SIZE = 4\n",
    "EPOCHS = 32"
   ]
  },
  {
   "cell_type": "markdown",
   "metadata": {},
   "source": [
    "# CARREGANDO IMAGENS PARA O TENSORFLOW"
   ]
  },
  {
   "cell_type": "code",
   "execution_count": 7,
   "metadata": {},
   "outputs": [
    {
     "name": "stdout",
     "output_type": "stream",
     "text": [
      "Found 9188 files belonging to 10 classes.\n",
      "Found 1260 files belonging to 10 classes.\n",
      "Found 2552 files belonging to 10 classes.\n"
     ]
    }
   ],
   "source": [
    "current_directory = os.path.abspath(os.getcwd())\n",
    "numbers_directory = current_directory + '/organizedCharacters/numbers'\n",
    "\n",
    "training_directory = numbers_directory + '/training'\n",
    "test_directory = numbers_directory + '/test'\n",
    "validation_directory = numbers_directory + '/validation'\n",
    "\n",
    "training_dataset = preprocessing.image_dataset_from_directory(training_directory, label_mode='categorical', image_size=(WIDTH, HEIGHT), batch_size=BATCH_SIZE)\n",
    "validation_dataset = preprocessing.image_dataset_from_directory(validation_directory, label_mode='categorical', image_size=(WIDTH, HEIGHT), batch_size=BATCH_SIZE)\n",
    "test_dataset = preprocessing.image_dataset_from_directory(test_directory, label_mode='categorical', image_size=(WIDTH, HEIGHT), batch_size=BATCH_SIZE)"
   ]
  },
  {
   "cell_type": "markdown",
   "metadata": {},
   "source": [
    "# CONSTRUINDO ARQUITETURA DA REDE"
   ]
  },
  {
   "cell_type": "code",
   "execution_count": 11,
   "metadata": {},
   "outputs": [],
   "source": [
    "def buildNeuralNetwork():\n",
    "\n",
    "    # camada de entrada\n",
    "    model_input = Input((HEIGHT, WIDTH, 3))\n",
    "    model_input = Rescaling(scale=1.0/255)(model_input)\n",
    "\n",
    "    # 1a camada\n",
    "    model = Conv2D(4, kernel_size=3, padding='same', activation='relu')(model_input)\n",
    "    model = MaxPooling2D (padding='same')(model)\n",
    "\n",
    "    # 2a camada\n",
    "    model = Conv2D(8, kernel_size=3, padding='same', activation='relu')(model_input)\n",
    "    model = MaxPooling2D (padding='same')(model)\n",
    "\n",
    "    # 3a camada\n",
    "    model = Conv2D(16, kernel_size=3, padding='same', activation='relu')(model_input)\n",
    "    model = MaxPooling2D (padding='same')(model)\n",
    "\n",
    "    # camadas conectadas\n",
    "    model = Flatten()(model)\n",
    "    model = Dense(24, activation='relu')(model)\n",
    "    model = Dropout(0.2)(model)\n",
    "    model = Dense(10, activation='softmax')(model)\n",
    "\n",
    "    return Model(model_input, model)"
   ]
  },
  {
   "cell_type": "markdown",
   "metadata": {},
   "source": [
    "# TREINANDO A REDE NEURAL"
   ]
  },
  {
   "cell_type": "code",
   "execution_count": 9,
   "metadata": {},
   "outputs": [],
   "source": [
    "def trainModel(model):\n",
    "\n",
    "   checkpoint = ModelCheckpoint('saved.h5', save_best_only=True, monitor='val_accuracy', mode='max', save_freq='epoch')\n",
    "   history = model.fit (training_dataset, epochs = EPOCHS, batch_size=BATCH_SIZE, validation_data=validation_dataset, callbacks=[checkpoint])\n",
    "   \n",
    "   plt.plot (history.history ['loss'])\n",
    "   plt.plot (history.history['val_loss'])\n",
    "   plt.ylabel ('loss')\n",
    "   plt.xlabel ('epoch')\n",
    "   plt.legend (['train', 'validation'], loc='upper left')\n",
    "   plt.savefig ('training.png')\n",
    "\n",
    "   plt.clf ()\n",
    "   plt.plot (history.history ['accuracy'])\n",
    "   plt.plot (history.history ['val_accuracy'])\n",
    "   plt.ylabel ('accuracy')\n",
    "   plt.xlabel ('epoch')\n",
    "   plt.legend (['train', 'validation'], loc='upper left')\n",
    "   plt.savefig ('training_acc.png')"
   ]
  },
  {
   "cell_type": "markdown",
   "metadata": {},
   "source": [
    "# MAIN"
   ]
  },
  {
   "cell_type": "code",
   "execution_count": 13,
   "metadata": {},
   "outputs": [
    {
     "name": "stdout",
     "output_type": "stream",
     "text": [
      "Model: \"model_2\"\n",
      "_________________________________________________________________\n",
      " Layer (type)                Output Shape              Param #   \n",
      "=================================================================\n",
      " input_6 (InputLayer)        [(None, 240, 240, 3)]     0         \n",
      "                                                                 \n",
      " conv2d_8 (Conv2D)           (None, 240, 240, 16)      448       \n",
      "                                                                 \n",
      " max_pooling2d_8 (MaxPoolin  (None, 120, 120, 16)      0         \n",
      " g2D)                                                            \n",
      "                                                                 \n",
      " flatten_2 (Flatten)         (None, 230400)            0         \n",
      "                                                                 \n",
      " dense_4 (Dense)             (None, 24)                5529624   \n",
      "                                                                 \n",
      " dropout_2 (Dropout)         (None, 24)                0         \n",
      "                                                                 \n",
      " dense_5 (Dense)             (None, 10)                250       \n",
      "                                                                 \n",
      "=================================================================\n",
      "Total params: 5530322 (21.10 MB)\n",
      "Trainable params: 5530322 (21.10 MB)\n",
      "Non-trainable params: 0 (0.00 Byte)\n",
      "_________________________________________________________________\n",
      "Epoch 1/32\n",
      "2297/2297 [==============================] - 183s 79ms/step - loss: 26.6933 - accuracy: 0.0937 - val_loss: 2.3026 - val_accuracy: 0.1032\n",
      "Epoch 2/32\n",
      "2297/2297 [==============================] - 182s 79ms/step - loss: 2.3032 - accuracy: 0.1017 - val_loss: 2.3027 - val_accuracy: 0.0992\n",
      "Epoch 3/32\n",
      "2297/2297 [==============================] - 182s 79ms/step - loss: 2.3032 - accuracy: 0.0998 - val_loss: 2.3028 - val_accuracy: 0.0992\n",
      "Epoch 4/32\n",
      "2297/2297 [==============================] - 226s 98ms/step - loss: 2.3032 - accuracy: 0.0998 - val_loss: 2.3027 - val_accuracy: 0.0992\n",
      "Epoch 5/32\n",
      "2297/2297 [==============================] - 301s 131ms/step - loss: 2.3032 - accuracy: 0.1003 - val_loss: 2.3028 - val_accuracy: 0.0992\n",
      "Epoch 6/32\n",
      "2297/2297 [==============================] - 187s 81ms/step - loss: 2.3032 - accuracy: 0.1012 - val_loss: 2.3027 - val_accuracy: 0.0992\n",
      "Epoch 7/32\n",
      "2297/2297 [==============================] - 188s 82ms/step - loss: 2.3032 - accuracy: 0.0999 - val_loss: 2.3028 - val_accuracy: 0.0992\n",
      "Epoch 8/32\n",
      "2297/2297 [==============================] - 185s 81ms/step - loss: 2.3032 - accuracy: 0.1005 - val_loss: 2.3027 - val_accuracy: 0.0992\n",
      "Epoch 9/32\n",
      "2297/2297 [==============================] - 191s 83ms/step - loss: 2.3032 - accuracy: 0.1002 - val_loss: 2.3027 - val_accuracy: 0.0992\n",
      "Epoch 10/32\n",
      "2297/2297 [==============================] - 184s 80ms/step - loss: 2.3032 - accuracy: 0.0999 - val_loss: 2.3027 - val_accuracy: 0.0992\n",
      "Epoch 11/32\n",
      "2297/2297 [==============================] - 182s 79ms/step - loss: 2.3032 - accuracy: 0.1005 - val_loss: 2.3027 - val_accuracy: 0.0992\n",
      "Epoch 12/32\n",
      "2297/2297 [==============================] - 179s 78ms/step - loss: 2.3032 - accuracy: 0.1003 - val_loss: 2.3027 - val_accuracy: 0.0992\n",
      "Epoch 13/32\n",
      "2297/2297 [==============================] - 180s 78ms/step - loss: 2.3032 - accuracy: 0.0993 - val_loss: 2.3027 - val_accuracy: 0.0992\n",
      "Epoch 14/32\n",
      "2297/2297 [==============================] - 183s 80ms/step - loss: 2.3032 - accuracy: 0.1008 - val_loss: 2.3027 - val_accuracy: 0.0992\n",
      "Epoch 15/32\n",
      "2297/2297 [==============================] - 185s 80ms/step - loss: 2.3032 - accuracy: 0.0997 - val_loss: 2.3027 - val_accuracy: 0.0992\n",
      "Epoch 16/32\n",
      "2297/2297 [==============================] - 180s 79ms/step - loss: 2.3032 - accuracy: 0.0994 - val_loss: 2.3027 - val_accuracy: 0.0992\n",
      "Epoch 17/32\n",
      "2297/2297 [==============================] - 189s 82ms/step - loss: 2.3031 - accuracy: 0.0997 - val_loss: 2.3027 - val_accuracy: 0.0992\n",
      "Epoch 18/32\n",
      "2297/2297 [==============================] - 170s 74ms/step - loss: 2.3032 - accuracy: 0.1009 - val_loss: 2.3027 - val_accuracy: 0.0992\n",
      "Epoch 19/32\n",
      "2297/2297 [==============================] - 166s 72ms/step - loss: 2.3032 - accuracy: 0.1009 - val_loss: 2.3027 - val_accuracy: 0.0992\n",
      "Epoch 20/32\n",
      "2297/2297 [==============================] - 166s 72ms/step - loss: 2.3032 - accuracy: 0.0993 - val_loss: 2.3027 - val_accuracy: 0.0992\n",
      "Epoch 21/32\n",
      "2297/2297 [==============================] - 165s 72ms/step - loss: 2.3032 - accuracy: 0.1005 - val_loss: 2.3027 - val_accuracy: 0.0992\n",
      "Epoch 22/32\n",
      "2297/2297 [==============================] - 163s 71ms/step - loss: 2.3032 - accuracy: 0.0997 - val_loss: 2.3027 - val_accuracy: 0.0992\n",
      "Epoch 23/32\n",
      "2297/2297 [==============================] - 166s 72ms/step - loss: 2.3032 - accuracy: 0.0986 - val_loss: 2.3027 - val_accuracy: 0.0992\n",
      "Epoch 24/32\n",
      "2297/2297 [==============================] - 170s 74ms/step - loss: 2.3032 - accuracy: 0.0993 - val_loss: 2.3027 - val_accuracy: 0.0992\n",
      "Epoch 25/32\n",
      "2297/2297 [==============================] - 172s 75ms/step - loss: 2.3032 - accuracy: 0.0994 - val_loss: 2.3027 - val_accuracy: 0.0992\n",
      "Epoch 26/32\n",
      "2297/2297 [==============================] - 209s 91ms/step - loss: 2.3032 - accuracy: 0.1015 - val_loss: 2.3027 - val_accuracy: 0.0992\n",
      "Epoch 27/32\n",
      "2297/2297 [==============================] - 163s 71ms/step - loss: 2.3032 - accuracy: 0.0995 - val_loss: 2.3027 - val_accuracy: 0.0992\n",
      "Epoch 28/32\n",
      "2297/2297 [==============================] - 164s 71ms/step - loss: 2.3032 - accuracy: 0.1000 - val_loss: 2.3027 - val_accuracy: 0.0992\n",
      "Epoch 29/32\n",
      "2297/2297 [==============================] - 163s 71ms/step - loss: 2.3031 - accuracy: 0.0996 - val_loss: 2.3027 - val_accuracy: 0.0992\n",
      "Epoch 30/32\n",
      "2297/2297 [==============================] - 165s 72ms/step - loss: 2.3032 - accuracy: 0.0996 - val_loss: 2.3027 - val_accuracy: 0.0992\n",
      "Epoch 31/32\n",
      "2297/2297 [==============================] - 165s 72ms/step - loss: 2.3032 - accuracy: 0.0994 - val_loss: 2.3027 - val_accuracy: 0.0992\n",
      "Epoch 32/32\n",
      "2297/2297 [==============================] - 167s 73ms/step - loss: 2.3032 - accuracy: 0.1010 - val_loss: 2.3027 - val_accuracy: 0.0992\n"
     ]
    },
    {
     "data": {
      "image/png": "[encoded data removed]",
      "text/plain": [
       "<Figure size 640x480 with 1 Axes>"
      ]
     },
     "metadata": {},
     "output_type": "display_data"
    }
   ],
   "source": [
    "def main():\n",
    "    \n",
    "    model = buildNeuralNetwork()\n",
    "    model.summary()\n",
    "    model.compile(optimizer = Adam(learning_rate=LEARNING_RATE), loss='categorical_crossentropy', metrics=['accuracy'])\n",
    "\n",
    "    if TRAIN_MODEL:\n",
    "        trainModel(model)\n",
    "    else:\n",
    "        model.load_weights(\"saved(13000 samples).h5\")\n",
    "        _, test_acc = model.evaluate(test_dataset)\n",
    "        print(f\"Test accuracy: {test_acc:.3f}\")\n",
    "\n",
    "\n",
    "if __name__ == '__main__':\n",
    "    main()"
   ]
  }
 ],
 "metadata": {
  "kernelspec": {
   "display_name": "myenv",
   "language": "python",
   "name": "python3"
  },
  "language_info": {
   "codemirror_mode": {
    "name": "ipython",
    "version": 3
   },
   "file_extension": ".py",
   "mimetype": "text/x-python",
   "name": "python",
   "nbconvert_exporter": "python",
   "pygments_lexer": "ipython3",
   "version": "3.11.7"
  }
 },
 "nbformat": 4,
 "nbformat_minor": 2
}
